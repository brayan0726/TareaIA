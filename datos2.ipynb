{
 "cells": [
  {
   "cell_type": "code",
   "execution_count": 1,
   "id": "e6d11622",
   "metadata": {},
   "outputs": [],
   "source": [
    "import pandas as pd"
   ]
  },
  {
   "cell_type": "code",
   "execution_count": 4,
   "id": "2d710363",
   "metadata": {},
   "outputs": [],
   "source": [
    "df = pd.read_json('datos2.json')"
   ]
  },
  {
   "cell_type": "code",
   "execution_count": 5,
   "id": "0a4b95be",
   "metadata": {},
   "outputs": [
    {
     "data": {
      "text/html": [
       "<div>\n",
       "<style scoped>\n",
       "    .dataframe tbody tr th:only-of-type {\n",
       "        vertical-align: middle;\n",
       "    }\n",
       "\n",
       "    .dataframe tbody tr th {\n",
       "        vertical-align: top;\n",
       "    }\n",
       "\n",
       "    .dataframe thead th {\n",
       "        text-align: right;\n",
       "    }\n",
       "</style>\n",
       "<table border=\"1\" class=\"dataframe\">\n",
       "  <thead>\n",
       "    <tr style=\"text-align: right;\">\n",
       "      <th></th>\n",
       "      <th>Calificaciones</th>\n",
       "    </tr>\n",
       "  </thead>\n",
       "  <tbody>\n",
       "    <tr>\n",
       "      <th>0</th>\n",
       "      <td>{'nombre': 'Juilio Banega', 'notas': 87}</td>\n",
       "    </tr>\n",
       "    <tr>\n",
       "      <th>1</th>\n",
       "      <td>{'Nombre': 'Ariana Ruiz', 'notas': 67}</td>\n",
       "    </tr>\n",
       "    <tr>\n",
       "      <th>2</th>\n",
       "      <td>{'nombre': 'Martin lutero', 'notas': 78}</td>\n",
       "    </tr>\n",
       "    <tr>\n",
       "      <th>3</th>\n",
       "      <td>{'nombre': 'milton duarte', 'notas': 68}</td>\n",
       "    </tr>\n",
       "    <tr>\n",
       "      <th>4</th>\n",
       "      <td>{'nombre': 'Lesly diaz', 'notas': 79}</td>\n",
       "    </tr>\n",
       "    <tr>\n",
       "      <th>5</th>\n",
       "      <td>{'nombre': 'Mario Juarez', 'notas': 70}</td>\n",
       "    </tr>\n",
       "    <tr>\n",
       "      <th>6</th>\n",
       "      <td>{'nombre': 'wanda Rodriguez', 'notas': 98}</td>\n",
       "    </tr>\n",
       "    <tr>\n",
       "      <th>7</th>\n",
       "      <td>{'nombre': 'Kenia Rodriguez', 'notas': 73}</td>\n",
       "    </tr>\n",
       "    <tr>\n",
       "      <th>8</th>\n",
       "      <td>{'nombre': 'nicol Martinez', 'notas': 75}</td>\n",
       "    </tr>\n",
       "  </tbody>\n",
       "</table>\n",
       "</div>"
      ],
      "text/plain": [
       "                               Calificaciones\n",
       "0    {'nombre': 'Juilio Banega', 'notas': 87}\n",
       "1      {'Nombre': 'Ariana Ruiz', 'notas': 67}\n",
       "2    {'nombre': 'Martin lutero', 'notas': 78}\n",
       "3    {'nombre': 'milton duarte', 'notas': 68}\n",
       "4       {'nombre': 'Lesly diaz', 'notas': 79}\n",
       "5     {'nombre': 'Mario Juarez', 'notas': 70}\n",
       "6  {'nombre': 'wanda Rodriguez', 'notas': 98}\n",
       "7  {'nombre': 'Kenia Rodriguez', 'notas': 73}\n",
       "8   {'nombre': 'nicol Martinez', 'notas': 75}"
      ]
     },
     "execution_count": 5,
     "metadata": {},
     "output_type": "execute_result"
    }
   ],
   "source": [
    "df"
   ]
  }
 ],
 "metadata": {
  "kernelspec": {
   "display_name": "Python 3 (ipykernel)",
   "language": "python",
   "name": "python3"
  },
  "language_info": {
   "codemirror_mode": {
    "name": "ipython",
    "version": 3
   },
   "file_extension": ".py",
   "mimetype": "text/x-python",
   "name": "python",
   "nbconvert_exporter": "python",
   "pygments_lexer": "ipython3",
   "version": "3.9.12"
  }
 },
 "nbformat": 4,
 "nbformat_minor": 5
}
