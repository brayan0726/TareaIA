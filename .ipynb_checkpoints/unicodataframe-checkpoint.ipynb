{
 "cells": [
  {
   "cell_type": "code",
   "execution_count": 1,
   "id": "6689a331",
   "metadata": {},
   "outputs": [],
   "source": [
    "import pandas as pd"
   ]
  },
  {
   "cell_type": "code",
   "execution_count": 20,
   "id": "dc129d36",
   "metadata": {},
   "outputs": [],
   "source": [
    "df=pd.read_csv('datos1.csv', delimiter=',')"
   ]
  },
  {
   "cell_type": "code",
   "execution_count": 26,
   "id": "9092c155",
   "metadata": {},
   "outputs": [
    {
     "data": {
      "text/html": [
       "<div>\n",
       "<style scoped>\n",
       "    .dataframe tbody tr th:only-of-type {\n",
       "        vertical-align: middle;\n",
       "    }\n",
       "\n",
       "    .dataframe tbody tr th {\n",
       "        vertical-align: top;\n",
       "    }\n",
       "\n",
       "    .dataframe thead th {\n",
       "        text-align: right;\n",
       "    }\n",
       "</style>\n",
       "<table border=\"1\" class=\"dataframe\">\n",
       "  <thead>\n",
       "    <tr style=\"text-align: right;\">\n",
       "      <th></th>\n",
       "      <th>Periodo;Nombre;Clase;Seccion</th>\n",
       "    </tr>\n",
       "  </thead>\n",
       "  <tbody>\n",
       "    <tr>\n",
       "      <th>0</th>\n",
       "      <td>1;Julio Banegas;Programacion;700</td>\n",
       "    </tr>\n",
       "    <tr>\n",
       "      <th>1</th>\n",
       "      <td>1;Ariana Ruiz;Dibujo 1;1001</td>\n",
       "    </tr>\n",
       "    <tr>\n",
       "      <th>2</th>\n",
       "      <td>2;Mantin Lutero;Gerencia;1101</td>\n",
       "    </tr>\n",
       "    <tr>\n",
       "      <th>3</th>\n",
       "      <td>3;Milton Duarte;Sistema de infromacion;1000</td>\n",
       "    </tr>\n",
       "    <tr>\n",
       "      <th>4</th>\n",
       "      <td>1;Lesly  Diaz;Redes 1;1200</td>\n",
       "    </tr>\n",
       "    <tr>\n",
       "      <th>5</th>\n",
       "      <td>2;Mario Juarez;Bases 2;700</td>\n",
       "    </tr>\n",
       "    <tr>\n",
       "      <th>6</th>\n",
       "      <td>3;Wanda Rodriguez;Algoritmo de datos;1300</td>\n",
       "    </tr>\n",
       "    <tr>\n",
       "      <th>7</th>\n",
       "      <td>1;Kenia Rodriguez;Matematicas 1;1401</td>\n",
       "    </tr>\n",
       "    <tr>\n",
       "      <th>8</th>\n",
       "      <td>2;Nicol  Martinez;POO;1600</td>\n",
       "    </tr>\n",
       "  </tbody>\n",
       "</table>\n",
       "</div>"
      ],
      "text/plain": [
       "                  Periodo;Nombre;Clase;Seccion\n",
       "0             1;Julio Banegas;Programacion;700\n",
       "1                  1;Ariana Ruiz;Dibujo 1;1001\n",
       "2                2;Mantin Lutero;Gerencia;1101\n",
       "3  3;Milton Duarte;Sistema de infromacion;1000\n",
       "4                   1;Lesly  Diaz;Redes 1;1200\n",
       "5                   2;Mario Juarez;Bases 2;700\n",
       "6    3;Wanda Rodriguez;Algoritmo de datos;1300\n",
       "7         1;Kenia Rodriguez;Matematicas 1;1401\n",
       "8                   2;Nicol  Martinez;POO;1600"
      ]
     },
     "execution_count": 26,
     "metadata": {},
     "output_type": "execute_result"
    }
   ],
   "source": [
    "df"
   ]
  },
  {
   "cell_type": "code",
   "execution_count": 19,
   "id": "8eb767bd",
   "metadata": {},
   "outputs": [],
   "source": [
    "df1=pd.read_json('datos2.json')"
   ]
  },
  {
   "cell_type": "code",
   "execution_count": 21,
   "id": "ff86356f",
   "metadata": {},
   "outputs": [
    {
     "data": {
      "text/html": [
       "<div>\n",
       "<style scoped>\n",
       "    .dataframe tbody tr th:only-of-type {\n",
       "        vertical-align: middle;\n",
       "    }\n",
       "\n",
       "    .dataframe tbody tr th {\n",
       "        vertical-align: top;\n",
       "    }\n",
       "\n",
       "    .dataframe thead th {\n",
       "        text-align: right;\n",
       "    }\n",
       "</style>\n",
       "<table border=\"1\" class=\"dataframe\">\n",
       "  <thead>\n",
       "    <tr style=\"text-align: right;\">\n",
       "      <th></th>\n",
       "      <th>Periodo;Nombre;Clase;Seccion</th>\n",
       "      <th>Calificaciones</th>\n",
       "    </tr>\n",
       "  </thead>\n",
       "  <tbody>\n",
       "    <tr>\n",
       "      <th>0</th>\n",
       "      <td>1;Julio Banegas;Programacion;700</td>\n",
       "      <td>{'nombre': 'Juilio Banega', 'notas': 87}</td>\n",
       "    </tr>\n",
       "    <tr>\n",
       "      <th>1</th>\n",
       "      <td>1;Ariana Ruiz;Dibujo 1;1001</td>\n",
       "      <td>{'Nombre': 'Ariana Ruiz', 'notas': 67}</td>\n",
       "    </tr>\n",
       "    <tr>\n",
       "      <th>2</th>\n",
       "      <td>2;Mantin Lutero;Gerencia;1101</td>\n",
       "      <td>{'nombre': 'Martin lutero', 'notas': 78}</td>\n",
       "    </tr>\n",
       "    <tr>\n",
       "      <th>3</th>\n",
       "      <td>3;Milton Duarte;Sistema de infromacion;1000</td>\n",
       "      <td>{'nombre': 'milton duarte', 'notas': 68}</td>\n",
       "    </tr>\n",
       "    <tr>\n",
       "      <th>4</th>\n",
       "      <td>1;Lesly  Diaz;Redes 1;1200</td>\n",
       "      <td>{'nombre': 'Lesly diaz', 'notas': 79}</td>\n",
       "    </tr>\n",
       "    <tr>\n",
       "      <th>5</th>\n",
       "      <td>2;Mario Juarez;Bases 2;700</td>\n",
       "      <td>{'nombre': 'Mario Juarez', 'notas': 70}</td>\n",
       "    </tr>\n",
       "    <tr>\n",
       "      <th>6</th>\n",
       "      <td>3;Wanda Rodriguez;Algoritmo de datos;1300</td>\n",
       "      <td>{'nombre': 'wanda Rodriguez', 'notas': 98}</td>\n",
       "    </tr>\n",
       "    <tr>\n",
       "      <th>7</th>\n",
       "      <td>1;Kenia Rodriguez;Matematicas 1;1401</td>\n",
       "      <td>{'nombre': 'Kenia Rodriguez', 'notas': 73}</td>\n",
       "    </tr>\n",
       "    <tr>\n",
       "      <th>8</th>\n",
       "      <td>2;Nicol  Martinez;POO;1600</td>\n",
       "      <td>{'nombre': 'nicol Martinez', 'notas': 75}</td>\n",
       "    </tr>\n",
       "  </tbody>\n",
       "</table>\n",
       "</div>"
      ],
      "text/plain": [
       "                  Periodo;Nombre;Clase;Seccion  \\\n",
       "0             1;Julio Banegas;Programacion;700   \n",
       "1                  1;Ariana Ruiz;Dibujo 1;1001   \n",
       "2                2;Mantin Lutero;Gerencia;1101   \n",
       "3  3;Milton Duarte;Sistema de infromacion;1000   \n",
       "4                   1;Lesly  Diaz;Redes 1;1200   \n",
       "5                   2;Mario Juarez;Bases 2;700   \n",
       "6    3;Wanda Rodriguez;Algoritmo de datos;1300   \n",
       "7         1;Kenia Rodriguez;Matematicas 1;1401   \n",
       "8                   2;Nicol  Martinez;POO;1600   \n",
       "\n",
       "                               Calificaciones  \n",
       "0    {'nombre': 'Juilio Banega', 'notas': 87}  \n",
       "1      {'Nombre': 'Ariana Ruiz', 'notas': 67}  \n",
       "2    {'nombre': 'Martin lutero', 'notas': 78}  \n",
       "3    {'nombre': 'milton duarte', 'notas': 68}  \n",
       "4       {'nombre': 'Lesly diaz', 'notas': 79}  \n",
       "5     {'nombre': 'Mario Juarez', 'notas': 70}  \n",
       "6  {'nombre': 'wanda Rodriguez', 'notas': 98}  \n",
       "7  {'nombre': 'Kenia Rodriguez', 'notas': 73}  \n",
       "8   {'nombre': 'nicol Martinez', 'notas': 75}  "
      ]
     },
     "execution_count": 21,
     "metadata": {},
     "output_type": "execute_result"
    }
   ],
   "source": [
    "pd.merge(df, df1, left_index=True, right_index=True)"
   ]
  }
 ],
 "metadata": {
  "kernelspec": {
   "display_name": "Python 3 (ipykernel)",
   "language": "python",
   "name": "python3"
  },
  "language_info": {
   "codemirror_mode": {
    "name": "ipython",
    "version": 3
   },
   "file_extension": ".py",
   "mimetype": "text/x-python",
   "name": "python",
   "nbconvert_exporter": "python",
   "pygments_lexer": "ipython3",
   "version": "3.9.12"
  }
 },
 "nbformat": 4,
 "nbformat_minor": 5
}
